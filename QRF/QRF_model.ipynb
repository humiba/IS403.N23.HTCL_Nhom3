{
 "cells": [
  {
   "cell_type": "code",
   "execution_count": 1,
   "id": "08e80d56",
   "metadata": {},
   "outputs": [],
   "source": [
    "import pandas as pd\n",
    "from sklearn.ensemble import RandomForestRegressor\n",
    "import numpy as np\n",
    "import matplotlib.pyplot as plt\n",
    "from sklearn.model_selection import train_test_split\n",
    "from sklearn.metrics import mean_squared_error\n",
    "from sklearn.metrics import mean_absolute_percentage_error"
   ]
  },
  {
   "cell_type": "code",
   "execution_count": 2,
   "id": "232ca217",
   "metadata": {},
   "outputs": [],
   "source": [
    "data = pd.read_csv('SONY.csv', parse_dates=['Date'])\n",
    "data.set_index('Date', inplace=True)\n",
    "df = data"
   ]
  },
  {
   "cell_type": "code",
   "execution_count": 3,
   "id": "384c237a",
   "metadata": {},
   "outputs": [
    {
     "data": {
      "text/html": [
       "<div>\n",
       "<style scoped>\n",
       "    .dataframe tbody tr th:only-of-type {\n",
       "        vertical-align: middle;\n",
       "    }\n",
       "\n",
       "    .dataframe tbody tr th {\n",
       "        vertical-align: top;\n",
       "    }\n",
       "\n",
       "    .dataframe thead th {\n",
       "        text-align: right;\n",
       "    }\n",
       "</style>\n",
       "<table border=\"1\" class=\"dataframe\">\n",
       "  <thead>\n",
       "    <tr style=\"text-align: right;\">\n",
       "      <th></th>\n",
       "      <th>Open</th>\n",
       "      <th>High</th>\n",
       "      <th>Low</th>\n",
       "      <th>Close</th>\n",
       "      <th>Adj Close</th>\n",
       "      <th>Volume</th>\n",
       "    </tr>\n",
       "    <tr>\n",
       "      <th>Date</th>\n",
       "      <th></th>\n",
       "      <th></th>\n",
       "      <th></th>\n",
       "      <th></th>\n",
       "      <th></th>\n",
       "      <th></th>\n",
       "    </tr>\n",
       "  </thead>\n",
       "  <tbody>\n",
       "    <tr>\n",
       "      <th>2017-12-01</th>\n",
       "      <td>45.860001</td>\n",
       "      <td>45.959999</td>\n",
       "      <td>45.330002</td>\n",
       "      <td>45.560001</td>\n",
       "      <td>45.560001</td>\n",
       "      <td>2192700</td>\n",
       "    </tr>\n",
       "    <tr>\n",
       "      <th>2017-12-04</th>\n",
       "      <td>46.250000</td>\n",
       "      <td>46.340000</td>\n",
       "      <td>45.750000</td>\n",
       "      <td>45.779999</td>\n",
       "      <td>45.779999</td>\n",
       "      <td>992800</td>\n",
       "    </tr>\n",
       "    <tr>\n",
       "      <th>2017-12-05</th>\n",
       "      <td>45.759998</td>\n",
       "      <td>46.200001</td>\n",
       "      <td>45.730000</td>\n",
       "      <td>45.869999</td>\n",
       "      <td>45.869999</td>\n",
       "      <td>554900</td>\n",
       "    </tr>\n",
       "    <tr>\n",
       "      <th>2017-12-06</th>\n",
       "      <td>44.990002</td>\n",
       "      <td>45.009998</td>\n",
       "      <td>44.650002</td>\n",
       "      <td>44.910000</td>\n",
       "      <td>44.910000</td>\n",
       "      <td>970700</td>\n",
       "    </tr>\n",
       "    <tr>\n",
       "      <th>2017-12-07</th>\n",
       "      <td>45.209999</td>\n",
       "      <td>45.849998</td>\n",
       "      <td>45.209999</td>\n",
       "      <td>45.750000</td>\n",
       "      <td>45.750000</td>\n",
       "      <td>809200</td>\n",
       "    </tr>\n",
       "    <tr>\n",
       "      <th>...</th>\n",
       "      <td>...</td>\n",
       "      <td>...</td>\n",
       "      <td>...</td>\n",
       "      <td>...</td>\n",
       "      <td>...</td>\n",
       "      <td>...</td>\n",
       "    </tr>\n",
       "    <tr>\n",
       "      <th>2023-05-09</th>\n",
       "      <td>92.820000</td>\n",
       "      <td>94.089996</td>\n",
       "      <td>92.820000</td>\n",
       "      <td>93.900002</td>\n",
       "      <td>93.900002</td>\n",
       "      <td>866000</td>\n",
       "    </tr>\n",
       "    <tr>\n",
       "      <th>2023-05-10</th>\n",
       "      <td>93.000000</td>\n",
       "      <td>93.519997</td>\n",
       "      <td>92.400002</td>\n",
       "      <td>93.430000</td>\n",
       "      <td>93.430000</td>\n",
       "      <td>755600</td>\n",
       "    </tr>\n",
       "    <tr>\n",
       "      <th>2023-05-11</th>\n",
       "      <td>93.610001</td>\n",
       "      <td>93.610001</td>\n",
       "      <td>92.650002</td>\n",
       "      <td>93.209999</td>\n",
       "      <td>93.209999</td>\n",
       "      <td>462000</td>\n",
       "    </tr>\n",
       "    <tr>\n",
       "      <th>2023-05-12</th>\n",
       "      <td>94.839996</td>\n",
       "      <td>95.339996</td>\n",
       "      <td>94.389999</td>\n",
       "      <td>94.680000</td>\n",
       "      <td>94.680000</td>\n",
       "      <td>570800</td>\n",
       "    </tr>\n",
       "    <tr>\n",
       "      <th>2023-05-15</th>\n",
       "      <td>94.620003</td>\n",
       "      <td>94.970001</td>\n",
       "      <td>94.339996</td>\n",
       "      <td>94.760002</td>\n",
       "      <td>94.760002</td>\n",
       "      <td>184878</td>\n",
       "    </tr>\n",
       "  </tbody>\n",
       "</table>\n",
       "<p>1371 rows × 6 columns</p>\n",
       "</div>"
      ],
      "text/plain": [
       "                 Open       High        Low      Close  Adj Close   Volume\n",
       "Date                                                                      \n",
       "2017-12-01  45.860001  45.959999  45.330002  45.560001  45.560001  2192700\n",
       "2017-12-04  46.250000  46.340000  45.750000  45.779999  45.779999   992800\n",
       "2017-12-05  45.759998  46.200001  45.730000  45.869999  45.869999   554900\n",
       "2017-12-06  44.990002  45.009998  44.650002  44.910000  44.910000   970700\n",
       "2017-12-07  45.209999  45.849998  45.209999  45.750000  45.750000   809200\n",
       "...               ...        ...        ...        ...        ...      ...\n",
       "2023-05-09  92.820000  94.089996  92.820000  93.900002  93.900002   866000\n",
       "2023-05-10  93.000000  93.519997  92.400002  93.430000  93.430000   755600\n",
       "2023-05-11  93.610001  93.610001  92.650002  93.209999  93.209999   462000\n",
       "2023-05-12  94.839996  95.339996  94.389999  94.680000  94.680000   570800\n",
       "2023-05-15  94.620003  94.970001  94.339996  94.760002  94.760002   184878\n",
       "\n",
       "[1371 rows x 6 columns]"
      ]
     },
     "execution_count": 3,
     "metadata": {},
     "output_type": "execute_result"
    }
   ],
   "source": [
    "data"
   ]
  },
  {
   "cell_type": "code",
   "execution_count": 4,
   "id": "d2d01426",
   "metadata": {},
   "outputs": [],
   "source": [
    "# Create a new column for the target variable, which is the future stock price\n",
    "data['FuturePrice'] = data['Close'].shift(-30)\n",
    "\n",
    "# Remove rows with missing values\n",
    "data = data.dropna()\n",
    "\n",
    "# Select the relevant features for prediction (you can add more if needed)\n",
    "features = ['Close']\n",
    "\n",
    "# Split the data into features (X) and target variable (y)\n",
    "X = data[features]\n",
    "y = data['FuturePrice']"
   ]
  },
  {
   "cell_type": "code",
   "execution_count": 5,
   "id": "5c0e331d",
   "metadata": {},
   "outputs": [],
   "source": [
    "# Split the data into train, test, and validation sets\n",
    "X_train, X_test_val, y_train, y_test_val = train_test_split(X, y, test_size=0.3, random_state=42)\n",
    "X_test, X_val, y_test, y_val = train_test_split(X_test_val, y_test_val, test_size=0.2857, random_state=42)"
   ]
  },
  {
   "cell_type": "code",
   "execution_count": 6,
   "id": "535a3ef5",
   "metadata": {},
   "outputs": [
    {
     "data": {
      "text/html": [
       "<style>#sk-container-id-1 {color: black;background-color: white;}#sk-container-id-1 pre{padding: 0;}#sk-container-id-1 div.sk-toggleable {background-color: white;}#sk-container-id-1 label.sk-toggleable__label {cursor: pointer;display: block;width: 100%;margin-bottom: 0;padding: 0.3em;box-sizing: border-box;text-align: center;}#sk-container-id-1 label.sk-toggleable__label-arrow:before {content: \"▸\";float: left;margin-right: 0.25em;color: #696969;}#sk-container-id-1 label.sk-toggleable__label-arrow:hover:before {color: black;}#sk-container-id-1 div.sk-estimator:hover label.sk-toggleable__label-arrow:before {color: black;}#sk-container-id-1 div.sk-toggleable__content {max-height: 0;max-width: 0;overflow: hidden;text-align: left;background-color: #f0f8ff;}#sk-container-id-1 div.sk-toggleable__content pre {margin: 0.2em;color: black;border-radius: 0.25em;background-color: #f0f8ff;}#sk-container-id-1 input.sk-toggleable__control:checked~div.sk-toggleable__content {max-height: 200px;max-width: 100%;overflow: auto;}#sk-container-id-1 input.sk-toggleable__control:checked~label.sk-toggleable__label-arrow:before {content: \"▾\";}#sk-container-id-1 div.sk-estimator input.sk-toggleable__control:checked~label.sk-toggleable__label {background-color: #d4ebff;}#sk-container-id-1 div.sk-label input.sk-toggleable__control:checked~label.sk-toggleable__label {background-color: #d4ebff;}#sk-container-id-1 input.sk-hidden--visually {border: 0;clip: rect(1px 1px 1px 1px);clip: rect(1px, 1px, 1px, 1px);height: 1px;margin: -1px;overflow: hidden;padding: 0;position: absolute;width: 1px;}#sk-container-id-1 div.sk-estimator {font-family: monospace;background-color: #f0f8ff;border: 1px dotted black;border-radius: 0.25em;box-sizing: border-box;margin-bottom: 0.5em;}#sk-container-id-1 div.sk-estimator:hover {background-color: #d4ebff;}#sk-container-id-1 div.sk-parallel-item::after {content: \"\";width: 100%;border-bottom: 1px solid gray;flex-grow: 1;}#sk-container-id-1 div.sk-label:hover label.sk-toggleable__label {background-color: #d4ebff;}#sk-container-id-1 div.sk-serial::before {content: \"\";position: absolute;border-left: 1px solid gray;box-sizing: border-box;top: 0;bottom: 0;left: 50%;z-index: 0;}#sk-container-id-1 div.sk-serial {display: flex;flex-direction: column;align-items: center;background-color: white;padding-right: 0.2em;padding-left: 0.2em;position: relative;}#sk-container-id-1 div.sk-item {position: relative;z-index: 1;}#sk-container-id-1 div.sk-parallel {display: flex;align-items: stretch;justify-content: center;background-color: white;position: relative;}#sk-container-id-1 div.sk-item::before, #sk-container-id-1 div.sk-parallel-item::before {content: \"\";position: absolute;border-left: 1px solid gray;box-sizing: border-box;top: 0;bottom: 0;left: 50%;z-index: -1;}#sk-container-id-1 div.sk-parallel-item {display: flex;flex-direction: column;z-index: 1;position: relative;background-color: white;}#sk-container-id-1 div.sk-parallel-item:first-child::after {align-self: flex-end;width: 50%;}#sk-container-id-1 div.sk-parallel-item:last-child::after {align-self: flex-start;width: 50%;}#sk-container-id-1 div.sk-parallel-item:only-child::after {width: 0;}#sk-container-id-1 div.sk-dashed-wrapped {border: 1px dashed gray;margin: 0 0.4em 0.5em 0.4em;box-sizing: border-box;padding-bottom: 0.4em;background-color: white;}#sk-container-id-1 div.sk-label label {font-family: monospace;font-weight: bold;display: inline-block;line-height: 1.2em;}#sk-container-id-1 div.sk-label-container {text-align: center;}#sk-container-id-1 div.sk-container {/* jupyter's `normalize.less` sets `[hidden] { display: none; }` but bootstrap.min.css set `[hidden] { display: none !important; }` so we also need the `!important` here to be able to override the default hidden behavior on the sphinx rendered scikit-learn.org. See: https://github.com/scikit-learn/scikit-learn/issues/21755 */display: inline-block !important;position: relative;}#sk-container-id-1 div.sk-text-repr-fallback {display: none;}</style><div id=\"sk-container-id-1\" class=\"sk-top-container\"><div class=\"sk-text-repr-fallback\"><pre>RandomForestRegressor()</pre><b>In a Jupyter environment, please rerun this cell to show the HTML representation or trust the notebook. <br />On GitHub, the HTML representation is unable to render, please try loading this page with nbviewer.org.</b></div><div class=\"sk-container\" hidden><div class=\"sk-item\"><div class=\"sk-estimator sk-toggleable\"><input class=\"sk-toggleable__control sk-hidden--visually\" id=\"sk-estimator-id-1\" type=\"checkbox\" checked><label for=\"sk-estimator-id-1\" class=\"sk-toggleable__label sk-toggleable__label-arrow\">RandomForestRegressor</label><div class=\"sk-toggleable__content\"><pre>RandomForestRegressor()</pre></div></div></div></div></div>"
      ],
      "text/plain": [
       "RandomForestRegressor()"
      ]
     },
     "execution_count": 6,
     "metadata": {},
     "output_type": "execute_result"
    }
   ],
   "source": [
    "# Initialize the random forest model\n",
    "model = RandomForestRegressor(n_estimators=100)\n",
    "\n",
    "# Fit the model on the training data\n",
    "model.fit(X_train, y_train)"
   ]
  },
  {
   "cell_type": "code",
   "execution_count": 7,
   "id": "04f9bd9f",
   "metadata": {},
   "outputs": [
    {
     "data": {
      "text/html": [
       "<div>\n",
       "<style scoped>\n",
       "    .dataframe tbody tr th:only-of-type {\n",
       "        vertical-align: middle;\n",
       "    }\n",
       "\n",
       "    .dataframe tbody tr th {\n",
       "        vertical-align: top;\n",
       "    }\n",
       "\n",
       "    .dataframe thead th {\n",
       "        text-align: right;\n",
       "    }\n",
       "</style>\n",
       "<table border=\"1\" class=\"dataframe\">\n",
       "  <thead>\n",
       "    <tr style=\"text-align: right;\">\n",
       "      <th></th>\n",
       "      <th>Close</th>\n",
       "    </tr>\n",
       "    <tr>\n",
       "      <th>Date</th>\n",
       "      <th></th>\n",
       "    </tr>\n",
       "  </thead>\n",
       "  <tbody>\n",
       "    <tr>\n",
       "      <th>2022-04-25</th>\n",
       "      <td>87.580002</td>\n",
       "    </tr>\n",
       "    <tr>\n",
       "      <th>2021-01-27</th>\n",
       "      <td>97.000000</td>\n",
       "    </tr>\n",
       "    <tr>\n",
       "      <th>2019-04-01</th>\n",
       "      <td>42.980000</td>\n",
       "    </tr>\n",
       "    <tr>\n",
       "      <th>2019-05-03</th>\n",
       "      <td>52.250000</td>\n",
       "    </tr>\n",
       "    <tr>\n",
       "      <th>2018-06-21</th>\n",
       "      <td>49.220001</td>\n",
       "    </tr>\n",
       "    <tr>\n",
       "      <th>...</th>\n",
       "      <td>...</td>\n",
       "    </tr>\n",
       "    <tr>\n",
       "      <th>2022-04-08</th>\n",
       "      <td>98.269997</td>\n",
       "    </tr>\n",
       "    <tr>\n",
       "      <th>2022-05-31</th>\n",
       "      <td>94.070000</td>\n",
       "    </tr>\n",
       "    <tr>\n",
       "      <th>2023-01-25</th>\n",
       "      <td>89.550003</td>\n",
       "    </tr>\n",
       "    <tr>\n",
       "      <th>2021-05-05</th>\n",
       "      <td>97.629997</td>\n",
       "    </tr>\n",
       "    <tr>\n",
       "      <th>2022-05-24</th>\n",
       "      <td>89.029999</td>\n",
       "    </tr>\n",
       "  </tbody>\n",
       "</table>\n",
       "<p>938 rows × 1 columns</p>\n",
       "</div>"
      ],
      "text/plain": [
       "                Close\n",
       "Date                 \n",
       "2022-04-25  87.580002\n",
       "2021-01-27  97.000000\n",
       "2019-04-01  42.980000\n",
       "2019-05-03  52.250000\n",
       "2018-06-21  49.220001\n",
       "...               ...\n",
       "2022-04-08  98.269997\n",
       "2022-05-31  94.070000\n",
       "2023-01-25  89.550003\n",
       "2021-05-05  97.629997\n",
       "2022-05-24  89.029999\n",
       "\n",
       "[938 rows x 1 columns]"
      ]
     },
     "execution_count": 7,
     "metadata": {},
     "output_type": "execute_result"
    }
   ],
   "source": [
    "X_train"
   ]
  },
  {
   "cell_type": "code",
   "execution_count": 8,
   "id": "d7fa6555",
   "metadata": {},
   "outputs": [],
   "source": [
    "# Get the last available stock price for prediction\n",
    "last_price = X_train.tail(1)\n",
    "\n",
    "# Create a date range for the next 30 days\n",
    "next_30_days = pd.date_range(start=df.index[-1], periods=30, freq='B')"
   ]
  },
  {
   "cell_type": "code",
   "execution_count": 9,
   "id": "c2047438",
   "metadata": {},
   "outputs": [],
   "source": [
    "# Predict the stock prices for the next 30 days\n",
    "predicted_prices = []\n",
    "for day in next_30_days:\n",
    "    predicted_price = model.predict(last_price)\n",
    "    predicted_prices.append(predicted_price[0])\n",
    "    last_price = pd.DataFrame({features[0]: [predicted_price[0]]})"
   ]
  },
  {
   "cell_type": "code",
   "execution_count": 10,
   "id": "c55afa9f",
   "metadata": {},
   "outputs": [
    {
     "name": "stdout",
     "output_type": "stream",
     "text": [
      "Mean Absolute Percentage Error (MAPE): 59.7945614432973 %\n",
      "Root Mean Squared Error (RMSE): 39.331645535113566\n",
      "Mean Squared Error (MSE): 1546.978340499819\n"
     ]
    }
   ],
   "source": [
    "predicted_data = pd.DataFrame({'Date': next_30_days[:len(X_val)], 'PredictedPrice': predicted_prices})\n",
    "\n",
    "# Calculate MAPE\n",
    "mape = mean_absolute_percentage_error(y_val[:len(predicted_data)], predicted_data['PredictedPrice'])\n",
    "mape_percent = mape * 100\n",
    "print('Mean Absolute Percentage Error (MAPE):', mape_percent, '%')\n",
    "\n",
    "# Calculate RMSE\n",
    "rmse = np.sqrt(mean_squared_error(y_val[:len(predicted_data)], predicted_data['PredictedPrice']))\n",
    "print('Root Mean Squared Error (RMSE):', rmse)\n",
    "\n",
    "# Calculate MSE\n",
    "mse = mean_squared_error(y_val[:len(predicted_data)], predicted_data['PredictedPrice'])\n",
    "print('Mean Squared Error (MSE):', mse)"
   ]
  },
  {
   "cell_type": "code",
   "execution_count": 11,
   "id": "1fc65515",
   "metadata": {},
   "outputs": [],
   "source": [
    "data = data.reset_index()\n",
    "\n",
    "# Combine the actual and predicted data\n",
    "combined_data = pd.merge(data[['Date', 'Close']], predicted_data, on='Date', how='outer')\n"
   ]
  },
  {
   "cell_type": "code",
   "execution_count": 12,
   "id": "ea648801",
   "metadata": {
    "scrolled": true
   },
   "outputs": [
    {
     "data": {
      "image/png": "[encoded data removed]",
      "text/plain": [
       "<Figure size 1000x600 with 1 Axes>"
      ]
     },
     "metadata": {},
     "output_type": "display_data"
    }
   ],
   "source": [
    "# Plot the actual and predicted prices\n",
    "plt.figure(figsize=(10, 6))\n",
    "plt.plot(combined_data['Date'], combined_data['Close'], label='Actual Close Price')\n",
    "plt.plot(combined_data['Date'], combined_data['PredictedPrice'], label='Predicted Close Price')\n",
    "plt.xlabel('Date')\n",
    "plt.ylabel('Close Price')\n",
    "plt.title('Actual and Predicted Close Prices')\n",
    "plt.legend()\n",
    "plt.xticks(rotation=45)\n",
    "plt.grid(True)\n",
    "plt.show()"
   ]
  }
 ],
 "metadata": {
  "kernelspec": {
   "display_name": "Python 3 (ipykernel)",
   "language": "python",
   "name": "python3"
  },
  "language_info": {
   "codemirror_mode": {
    "name": "ipython",
    "version": 3
   },
   "file_extension": ".py",
   "mimetype": "text/x-python",
   "name": "python",
   "nbconvert_exporter": "python",
   "pygments_lexer": "ipython3",
   "version": "3.11.3"
  }
 },
 "nbformat": 4,
 "nbformat_minor": 5
}
